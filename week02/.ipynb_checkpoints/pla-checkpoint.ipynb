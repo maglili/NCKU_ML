{
 "cells": [
  {
   "cell_type": "markdown",
   "metadata": {},
   "source": [
    "# Perceptron Learning Algorithm (PLA) 演算法\n",
    "\n",
    "利用準備好的工具，實作 PLA 演算法，演算法細節可以參考林軒田老師的[機器學習基石](https://www.youtube.com/watch?v=WlpF1Phkv28&list=PLXVfgk9fNX2I7tB6oIINGBmW50rrmFTqf&index=6)影片。\n",
    "\n",
    "# 二維 PLA 展示"
   ]
  },
  {
   "cell_type": "code",
   "execution_count": 1,
   "metadata": {},
   "outputs": [],
   "source": [
    "# 載入準備好的工具\n",
    "import sys\n",
    "sys.path.append('.prepared')\n",
    "import pla as prepared"
   ]
  },
  {
   "cell_type": "code",
   "execution_count": 2,
   "metadata": {},
   "outputs": [],
   "source": [
    "# 重置預先準備好的 PLA 示範模型\n",
    "prepared.reset()"
   ]
  },
  {
   "cell_type": "code",
   "execution_count": 17,
   "metadata": {},
   "outputs": [
    {
     "data": {
      "image/png": "[encoded data removed]",
      "text/plain": [
       "<Figure size 432x288 with 1 Axes>"
      ]
     },
     "metadata": {
      "needs_background": "light"
     },
     "output_type": "display_data"
    }
   ],
   "source": [
    "# 更新該 PLA 模型\n",
    "prepared.update()\n",
    "\n",
    "# 繪製該 PLA 模型\n",
    "prepared.plot()\n",
    "\n",
    "# 執行多次觀察 PLA 模型迭代的過程，收斂後可以執行上面程式區段執行重置模型"
   ]
  },
  {
   "cell_type": "markdown",
   "metadata": {},
   "source": [
    "# 動手做\n",
    "\n",
    "完成下面程式區段的 `pla()`，並用其取代 `prepared.demo()`。注意由上往下尋找預測錯誤的資料，更新之後從下一筆繼續尋找，答案才會跟 `prepared.demo()` 完全一致。"
   ]
  },
  {
   "cell_type": "code",
   "execution_count": 18,
   "metadata": {},
   "outputs": [
    {
     "name": "stdout",
     "output_type": "stream",
     "text": [
      "W_pla: [[-3.         3.0841436 -1.583081   2.391305   4.5287635]]\n"
     ]
    }
   ],
   "source": [
    "import numpy as np\n",
    "\n",
    "def pla():\n",
    "    # TODO: start coding here... \n",
    "    # the first thing is to read `pla.dat`\n",
    "    f  = open('./pla.dat', 'r')\n",
    "    X_set = list()  # X_set obtained all X vectors\n",
    "    y_set = list()  # y_set obtained all y vectors\n",
    "        \n",
    "    for item in f:\n",
    "        item_sp=item.split()\n",
    "        x = np.array([[1,] + item_sp[:4]], dtype='float64')  #e.g X1 = [1,x1,x2,x3,x4], here x0 = 1  \n",
    "        y = np.array([[item_sp[4]]], dtype='int8')\n",
    "        X_set.append(x)\n",
    "        y_set.append(y)\n",
    "        \n",
    "    w = np.array([[1, 0.97681, 0.10723, 0.64385, 0.29556]], dtype='float64')\n",
    "    \n",
    "    count = 0\n",
    "    while True:\n",
    "        stop = True\n",
    "        for i in range(len(X_set)):\n",
    "            if np.sign( np.dot(w,X_set[i].T)) != np.sign(y_set[i]):\n",
    "                w = w + np.multiply(X_set[i],y_set[i])\n",
    "                count = count + 1\n",
    "                stop = None\n",
    "        if stop:\n",
    "            break\n",
    "    np.set_printoptions(precision=10)                \n",
    "    print('W_pla:',w)\n",
    "    \n",
    "    \n",
    "if True: # TODO: change `False` to `True` once you finish `pla()`\n",
    "    pla()\n",
    "else:\n",
    "    prepared.demo()"
   ]
  },
  {
   "cell_type": "code",
   "execution_count": 19,
   "metadata": {},
   "outputs": [
    {
     "name": "stdout",
     "output_type": "stream",
     "text": [
      "#45 [-3.            3.0841435483 -1.5830810443  2.391305075   4.528763453 ]\n"
     ]
    }
   ],
   "source": [
    "prepared.demo()"
   ]
  },
  {
   "cell_type": "code",
   "execution_count": null,
   "metadata": {},
   "outputs": [],
   "source": []
  }
 ],
 "metadata": {
  "kernelspec": {
   "display_name": "Python 3",
   "language": "python",
   "name": "python3"
  },
  "language_info": {
   "codemirror_mode": {
    "name": "ipython",
    "version": 3
   },
   "file_extension": ".py",
   "mimetype": "text/x-python",
   "name": "python",
   "nbconvert_exporter": "python",
   "pygments_lexer": "ipython3",
   "version": "3.8.5"
  }
 },
 "nbformat": 4,
 "nbformat_minor": 2
}
